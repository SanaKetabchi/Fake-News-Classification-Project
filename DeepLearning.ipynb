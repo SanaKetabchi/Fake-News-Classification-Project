{
 "cells": [
  {
   "cell_type": "markdown",
   "id": "ddf99f92",
   "metadata": {},
   "source": [
    "## Deep Learning \n",
    "\n",
    "Using DL method to classify a set of news articles into real and fake news.\n",
    "\n",
    "### Environment Setup\n",
    "\n",
    "Importing necessary libraries, including BERT. Reading input files containting the real and fake news datasets."
   ]
  },
  {
   "cell_type": "code",
   "execution_count": 1,
   "id": "bcc45d9f",
   "metadata": {},
   "outputs": [
    {
     "data": {
      "text/plain": [
       "DatasetDict({\n",
       "    train: Dataset({\n",
       "        features: ['title', 'text', 'subject', 'date', 'TrueNews?', '__index_level_0__'],\n",
       "        num_rows: 31428\n",
       "    })\n",
       "    test: Dataset({\n",
       "        features: ['title', 'text', 'subject', 'date', 'TrueNews?', '__index_level_0__'],\n",
       "        num_rows: 13470\n",
       "    })\n",
       "})"
      ]
     },
     "execution_count": 1,
     "metadata": {},
     "output_type": "execute_result"
    }
   ],
   "source": [
    "import numpy as np # linear algebra\n",
    "import pandas as pd # data processing, CSV file I/O (e.g. pd.read_csv)\n",
    "from datasets import Dataset, DatasetDict\n",
    "from transformers import BertTokenizer, BertForSequenceClassification\n",
    "from sklearn.model_selection import train_test_split\n",
    "\n",
    "\n",
    "import os\n",
    "for dirname, _, filenames in os.walk('/kaggle/input'):\n",
    "    for filename in filenames:\n",
    "        print(os.path.join(dirname, filename))\n",
    "\n",
    "# dataset_true = load_dataset(\"csv\", data_files=\"/Users/sanaketabchi/project/DS/NLP/True.csv\")\n",
    "# dataset_fake = load_dataset(\"csv\", data_files=\"/Users/sanaketabchi/project/DS/NLP/Fake.csv\")\n",
    "\n",
    "# dataset = concatenate_datasets([dataset_true['train'], dataset_fake['train']])\n",
    "\n",
    "# dataset = dataset.train_test_split(test_size=0.3)\n",
    "\n",
    "\n",
    "# train_df = pd.DataFrame(dataset[\"train\"][:])\n",
    "\n",
    "df_true = pd.read_csv(\"/Users/sanaketabchi/project/DS/NLP/True.csv\")\n",
    "df_fake = pd.read_csv(\"/Users/sanaketabchi/project/DS/NLP/Fake.csv\")\n",
    "\n",
    "# df_true.shape\n",
    "# df_fake.shape\n",
    "\n",
    "# df_true.head()\n",
    "\n",
    "df_true['TrueNews?'] = [True for x in range(len(df_true.index))]\n",
    "df_fake['TrueNews?'] = [False for x in range(len(df_fake.index))]\n",
    "\n",
    "df_all = pd.concat([df_true, df_fake], axis = 0)\n",
    "\n",
    "trainDS, testDS = train_test_split(df_all, test_size=0.3)\n",
    "\n",
    "tds = Dataset.from_pandas(trainDS)\n",
    "sds = Dataset.from_pandas(testDS) \n",
    "ds = DatasetDict()\n",
    "\n",
    "ds['train'] = tds\n",
    "ds['test'] = sds\n",
    "\n",
    "ds\n",
    "\n",
    "\n"
   ]
  },
  {
   "cell_type": "code",
   "execution_count": 2,
   "id": "0f1e0657",
   "metadata": {},
   "outputs": [],
   "source": [
    "from transformers import AutoTokenizer\n",
    "model_ckpt = \"distilbert-base-uncased\"\n",
    "tokenizer = AutoTokenizer.from_pretrained(pretrained_model_name_or_path=model_ckpt)"
   ]
  },
  {
   "cell_type": "markdown",
   "id": "836ce6df",
   "metadata": {},
   "source": [
    "Combining the real and fake news datasets into one dataframe."
   ]
  },
  {
   "cell_type": "code",
   "execution_count": 3,
   "id": "8ff059be",
   "metadata": {},
   "outputs": [
    {
     "data": {
      "application/vnd.jupyter.widget-view+json": {
       "model_id": "b192b729bf4642409c022d88bc642e7c",
       "version_major": 2,
       "version_minor": 0
      },
      "text/plain": [
       "  0%|          | 0/1 [00:00<?, ?ba/s]"
      ]
     },
     "metadata": {},
     "output_type": "display_data"
    },
    {
     "data": {
      "application/vnd.jupyter.widget-view+json": {
       "model_id": "e5bc6f8a3d1b4f918044e0623c1a3e09",
       "version_major": 2,
       "version_minor": 0
      },
      "text/plain": [
       "  0%|          | 0/1 [00:00<?, ?ba/s]"
      ]
     },
     "metadata": {},
     "output_type": "display_data"
    }
   ],
   "source": [
    "# Tokenization function\n",
    "def tokenize(batch):\n",
    "    return tokenizer(batch[\"text\"], padding=True, truncation=True)\n",
    "\n",
    "# def tokenize_title(batch):\n",
    "#     return tokenizer(batch[\"title\"], padding=True, truncation=True)\n",
    "\n",
    "# Tokenize entire dataset \n",
    "tokenized_dataset = ds.map(tokenize, batched=True, batch_size=None)\n",
    "# tokenized_dataset = tokenized_dataset_1.map(tokenize_title, batched=True, batch_size=None)\n"
   ]
  },
  {
   "cell_type": "code",
   "execution_count": 4,
   "id": "8de60c49",
   "metadata": {},
   "outputs": [
    {
     "name": "stderr",
     "output_type": "stream",
     "text": [
      "Some layers from the model checkpoint at distilbert-base-uncased were not used when initializing TFDistilBertForSequenceClassification: ['activation_13', 'vocab_layer_norm', 'vocab_transform', 'vocab_projector']\n",
      "- This IS expected if you are initializing TFDistilBertForSequenceClassification from the checkpoint of a model trained on another task or with another architecture (e.g. initializing a BertForSequenceClassification model from a BertForPreTraining model).\n",
      "- This IS NOT expected if you are initializing TFDistilBertForSequenceClassification from the checkpoint of a model that you expect to be exactly identical (initializing a BertForSequenceClassification model from a BertForSequenceClassification model).\n",
      "Some layers of TFDistilBertForSequenceClassification were not initialized from the model checkpoint at distilbert-base-uncased and are newly initialized: ['pre_classifier', 'classifier', 'dropout_19']\n",
      "You should probably TRAIN this model on a down-stream task to be able to use it for predictions and inference.\n"
     ]
    }
   ],
   "source": [
    "import tensorflow as tf\n",
    "from transformers import TFAutoModelForSequenceClassification\n",
    "num_labels = 2\n",
    "model = TFAutoModelForSequenceClassification.from_pretrained(model_ckpt, \n",
    "                                                             num_labels=num_labels)"
   ]
  },
  {
   "cell_type": "code",
   "execution_count": 5,
   "id": "ee36053c",
   "metadata": {},
   "outputs": [],
   "source": [
    "batch_size=64\n",
    "from transformers import DataCollatorWithPadding\n",
    "data_collator = DataCollatorWithPadding(tokenizer=tokenizer, return_tensors=\"tf\")"
   ]
  },
  {
   "cell_type": "code",
   "execution_count": 6,
   "id": "7dae613d-af1b-4ecf-a588-7ed7f67e3c2f",
   "metadata": {},
   "outputs": [
    {
     "data": {
      "text/plain": [
       "Dataset({\n",
       "    features: ['title', 'text', 'subject', 'date', 'TrueNews?', '__index_level_0__', 'input_ids', 'attention_mask'],\n",
       "    num_rows: 31428\n",
       "})"
      ]
     },
     "execution_count": 6,
     "metadata": {},
     "output_type": "execute_result"
    }
   ],
   "source": [
    "tokenized_dataset[\"train\"]"
   ]
  },
  {
   "cell_type": "code",
   "execution_count": 8,
   "id": "412cd408",
   "metadata": {},
   "outputs": [],
   "source": [
    "# Create tf datasets\n",
    "tokenized_dataset[\"train\"]\n",
    "tf_train_dataset = tokenized_dataset[\"train\"].to_tf_dataset( \n",
    "    # columns=['title', 'text', 'subject', 'date', 'TrueNews?', '__index_level_0__', 'input_ids', 'attention_mask'],\n",
    "    columns=['text',\"TrueNews?\", '__index_level_0__', 'input_ids', 'attention_mask'],\n",
    "    label_cols=[\"TrueNews?\"], \n",
    "    shuffle=True, \n",
    "    batch_size=batch_size,\n",
    "    # collate_fn=data_collator\n",
    ")\n",
    "tf_valid_dataset = tokenized_dataset[\"test\"].to_tf_dataset(\n",
    "    # columns=['title', 'text', 'subject', 'date', 'TrueNews?', '__index_level_0__', 'input_ids', 'attention_mask'], \n",
    "    columns=[\"TrueNews?\", '__index_level_0__', 'input_ids', 'attention_mask'],\n",
    "    label_cols=[\"TrueNews?\"], \n",
    "    shuffle=False, \n",
    "    batch_size=batch_size,\n",
    "    # collate_fn=data_collator\n",
    ")"
   ]
  },
  {
   "cell_type": "code",
   "execution_count": 9,
   "id": "5ec99a56-47dd-47d5-9b55-1d94d85cd9da",
   "metadata": {},
   "outputs": [
    {
     "data": {
      "text/plain": [
       "<PrefetchDataset element_spec=({'text': TensorSpec(shape=(None,), dtype=tf.string, name=None), 'TrueNews?': TensorSpec(shape=(None,), dtype=tf.int64, name=None), '__index_level_0__': TensorSpec(shape=(None,), dtype=tf.int64, name=None), 'input_ids': TensorSpec(shape=(None, 512), dtype=tf.int64, name=None), 'attention_mask': TensorSpec(shape=(None, 512), dtype=tf.int64, name=None)}, TensorSpec(shape=(None,), dtype=tf.int64, name=None))>"
      ]
     },
     "execution_count": 9,
     "metadata": {},
     "output_type": "execute_result"
    }
   ],
   "source": [
    "tf_train_dataset"
   ]
  },
  {
   "cell_type": "code",
   "execution_count": 10,
   "id": "4810f7cb",
   "metadata": {},
   "outputs": [],
   "source": [
    "from tensorflow.keras import optimizers\n",
    "from tensorflow.keras import metrics\n",
    "from tensorflow.keras import losses"
   ]
  },
  {
   "cell_type": "code",
   "execution_count": 11,
   "id": "07c6d3ef",
   "metadata": {},
   "outputs": [],
   "source": [
    "# Compile the model\n",
    "model.compile(\n",
    "    optimizer=optimizers.Adam(learning_rate=5e-5),\n",
    "    loss=losses.SparseCategoricalCrossentropy(from_logits=True),\n",
    "    metrics=metrics.SparseCategoricalAccuracy()\n",
    ")"
   ]
  },
  {
   "cell_type": "code",
   "execution_count": 12,
   "id": "9210190c",
   "metadata": {},
   "outputs": [
    {
     "name": "stdout",
     "output_type": "stream",
     "text": [
      "Epoch 1/5\n"
     ]
    },
    {
     "name": "stderr",
     "output_type": "stream",
     "text": [
      "2023-01-18 21:05:45.181438: W tensorflow/tsl/platform/profile_utils/cpu_utils.cc:128] Failed to get CPU frequency: 0 Hz\n"
     ]
    },
    {
     "ename": "TypeError",
     "evalue": "in user code:\n\n    File \"/Users/sanaketabchi/miniforge3/envs/DS39/lib/python3.9/site-packages/keras/engine/training.py\", line 1249, in train_function  *\n        return step_function(self, iterator)\n    File \"/Users/sanaketabchi/miniforge3/envs/DS39/lib/python3.9/site-packages/keras/engine/training.py\", line 1233, in step_function  **\n        outputs = model.distribute_strategy.run(run_step, args=(data,))\n    File \"/Users/sanaketabchi/miniforge3/envs/DS39/lib/python3.9/site-packages/keras/engine/training.py\", line 1222, in run_step  **\n        outputs = model.train_step(data)\n    File \"/Users/sanaketabchi/miniforge3/envs/DS39/lib/python3.9/site-packages/transformers/modeling_tf_utils.py\", line 1495, in train_step\n        y_pred = self(x, training=True)\n    File \"/Users/sanaketabchi/miniforge3/envs/DS39/lib/python3.9/site-packages/keras/utils/traceback_utils.py\", line 70, in error_handler\n        raise e.with_traceback(filtered_tb) from None\n    File \"/var/folders/nn/08g9ycbd6v32z2c6dwnskcyc0000gn/T/__autograph_generated_fileyhttfvfg.py\", line 36, in tf__run_call_with_unpacked_inputs\n        retval_ = ag__.converted_call(ag__.ld(func), (ag__.ld(self),), dict(**ag__.ld(unpacked_inputs)), fscope)\n\n    TypeError: Exception encountered when calling layer 'tf_distil_bert_for_sequence_classification' (type TFDistilBertForSequenceClassification).\n    \n    in user code:\n    \n        File \"/Users/sanaketabchi/miniforge3/envs/DS39/lib/python3.9/site-packages/transformers/modeling_tf_utils.py\", line 748, in run_call_with_unpacked_inputs  *\n            return func(self, **unpacked_inputs)\n    \n        TypeError: tf__call() got an unexpected keyword argument 'text'\n    \n    \n    Call arguments received by layer 'tf_distil_bert_for_sequence_classification' (type TFDistilBertForSequenceClassification):\n      • self={'text': 'tf.Tensor(shape=(None, 1), dtype=string)', 'TrueNews?': 'tf.Tensor(shape=(None, 1), dtype=int64)', '__index_level_0__': 'tf.Tensor(shape=(None, 1), dtype=int64)', 'input_ids': 'tf.Tensor(shape=(None, 512), dtype=int64)', 'attention_mask': 'tf.Tensor(shape=(None, 512), dtype=int64)'}\n      • input_ids=None\n      • attention_mask=None\n      • head_mask=None\n      • inputs_embeds=None\n      • output_attentions=None\n      • output_hidden_states=None\n      • return_dict=None\n      • labels=None\n      • training=True\n",
     "output_type": "error",
     "traceback": [
      "\u001b[0;31m---------------------------------------------------------------------------\u001b[0m",
      "\u001b[0;31mTypeError\u001b[0m                                 Traceback (most recent call last)",
      "Cell \u001b[0;32mIn[12], line 2\u001b[0m\n\u001b[1;32m      1\u001b[0m \u001b[38;5;66;03m# Fit the model\u001b[39;00m\n\u001b[0;32m----> 2\u001b[0m \u001b[43mmodel\u001b[49m\u001b[38;5;241;43m.\u001b[39;49m\u001b[43mfit\u001b[49m\u001b[43m(\u001b[49m\u001b[43mtf_train_dataset\u001b[49m\u001b[43m,\u001b[49m\u001b[43m \u001b[49m\n\u001b[1;32m      3\u001b[0m \u001b[43m          \u001b[49m\u001b[43mvalidation_data\u001b[49m\u001b[38;5;241;43m=\u001b[39;49m\u001b[43mtf_valid_dataset\u001b[49m\u001b[43m,\u001b[49m\u001b[43m \u001b[49m\n\u001b[1;32m      4\u001b[0m \u001b[43m          \u001b[49m\u001b[43mepochs\u001b[49m\u001b[38;5;241;43m=\u001b[39;49m\u001b[38;5;241;43m5\u001b[39;49m\u001b[43m)\u001b[49m\n",
      "File \u001b[0;32m~/miniforge3/envs/DS39/lib/python3.9/site-packages/keras/utils/traceback_utils.py:70\u001b[0m, in \u001b[0;36mfilter_traceback.<locals>.error_handler\u001b[0;34m(*args, **kwargs)\u001b[0m\n\u001b[1;32m     67\u001b[0m     filtered_tb \u001b[38;5;241m=\u001b[39m _process_traceback_frames(e\u001b[38;5;241m.\u001b[39m__traceback__)\n\u001b[1;32m     68\u001b[0m     \u001b[38;5;66;03m# To get the full stack trace, call:\u001b[39;00m\n\u001b[1;32m     69\u001b[0m     \u001b[38;5;66;03m# `tf.debugging.disable_traceback_filtering()`\u001b[39;00m\n\u001b[0;32m---> 70\u001b[0m     \u001b[38;5;28;01mraise\u001b[39;00m e\u001b[38;5;241m.\u001b[39mwith_traceback(filtered_tb) \u001b[38;5;28;01mfrom\u001b[39;00m \u001b[38;5;28mNone\u001b[39m\n\u001b[1;32m     71\u001b[0m \u001b[38;5;28;01mfinally\u001b[39;00m:\n\u001b[1;32m     72\u001b[0m     \u001b[38;5;28;01mdel\u001b[39;00m filtered_tb\n",
      "File \u001b[0;32m/var/folders/nn/08g9ycbd6v32z2c6dwnskcyc0000gn/T/__autograph_generated_file7oa8bds5.py:15\u001b[0m, in \u001b[0;36mouter_factory.<locals>.inner_factory.<locals>.tf__train_function\u001b[0;34m(iterator)\u001b[0m\n\u001b[1;32m     13\u001b[0m \u001b[38;5;28;01mtry\u001b[39;00m:\n\u001b[1;32m     14\u001b[0m     do_return \u001b[38;5;241m=\u001b[39m \u001b[38;5;28;01mTrue\u001b[39;00m\n\u001b[0;32m---> 15\u001b[0m     retval_ \u001b[38;5;241m=\u001b[39m ag__\u001b[38;5;241m.\u001b[39mconverted_call(ag__\u001b[38;5;241m.\u001b[39mld(step_function), (ag__\u001b[38;5;241m.\u001b[39mld(\u001b[38;5;28mself\u001b[39m), ag__\u001b[38;5;241m.\u001b[39mld(iterator)), \u001b[38;5;28;01mNone\u001b[39;00m, fscope)\n\u001b[1;32m     16\u001b[0m \u001b[38;5;28;01mexcept\u001b[39;00m:\n\u001b[1;32m     17\u001b[0m     do_return \u001b[38;5;241m=\u001b[39m \u001b[38;5;28;01mFalse\u001b[39;00m\n",
      "File \u001b[0;32m~/miniforge3/envs/DS39/lib/python3.9/site-packages/transformers/modeling_tf_utils.py:1495\u001b[0m, in \u001b[0;36mTFPreTrainedModel.train_step\u001b[0;34m(self, data)\u001b[0m\n\u001b[1;32m   1493\u001b[0m     y_pred \u001b[38;5;241m=\u001b[39m \u001b[38;5;28mself\u001b[39m(x, training\u001b[38;5;241m=\u001b[39m\u001b[38;5;28;01mTrue\u001b[39;00m, return_loss\u001b[38;5;241m=\u001b[39m\u001b[38;5;28;01mTrue\u001b[39;00m)\n\u001b[1;32m   1494\u001b[0m \u001b[38;5;28;01melse\u001b[39;00m:\n\u001b[0;32m-> 1495\u001b[0m     y_pred \u001b[38;5;241m=\u001b[39m \u001b[38;5;28mself\u001b[39m(x, training\u001b[38;5;241m=\u001b[39m\u001b[38;5;28;01mTrue\u001b[39;00m)\n\u001b[1;32m   1496\u001b[0m \u001b[38;5;28;01mif\u001b[39;00m \u001b[38;5;28mself\u001b[39m\u001b[38;5;241m.\u001b[39m_using_dummy_loss:\n\u001b[1;32m   1497\u001b[0m     loss \u001b[38;5;241m=\u001b[39m \u001b[38;5;28mself\u001b[39m\u001b[38;5;241m.\u001b[39mcompiled_loss(y_pred\u001b[38;5;241m.\u001b[39mloss, y_pred\u001b[38;5;241m.\u001b[39mloss, sample_weight, regularization_losses\u001b[38;5;241m=\u001b[39m\u001b[38;5;28mself\u001b[39m\u001b[38;5;241m.\u001b[39mlosses)\n",
      "File \u001b[0;32m/var/folders/nn/08g9ycbd6v32z2c6dwnskcyc0000gn/T/__autograph_generated_fileyhttfvfg.py:36\u001b[0m, in \u001b[0;36mouter_factory.<locals>.inner_factory.<locals>.tf__run_call_with_unpacked_inputs\u001b[0;34m(self, *args, **kwargs)\u001b[0m\n\u001b[1;32m     34\u001b[0m \u001b[38;5;28;01mtry\u001b[39;00m:\n\u001b[1;32m     35\u001b[0m     do_return \u001b[38;5;241m=\u001b[39m \u001b[38;5;28;01mTrue\u001b[39;00m\n\u001b[0;32m---> 36\u001b[0m     retval_ \u001b[38;5;241m=\u001b[39m ag__\u001b[38;5;241m.\u001b[39mconverted_call(ag__\u001b[38;5;241m.\u001b[39mld(func), (ag__\u001b[38;5;241m.\u001b[39mld(\u001b[38;5;28mself\u001b[39m),), \u001b[38;5;28mdict\u001b[39m(\u001b[38;5;241m*\u001b[39m\u001b[38;5;241m*\u001b[39mag__\u001b[38;5;241m.\u001b[39mld(unpacked_inputs)), fscope)\n\u001b[1;32m     37\u001b[0m \u001b[38;5;28;01mexcept\u001b[39;00m:\n\u001b[1;32m     38\u001b[0m     do_return \u001b[38;5;241m=\u001b[39m \u001b[38;5;28;01mFalse\u001b[39;00m\n",
      "\u001b[0;31mTypeError\u001b[0m: in user code:\n\n    File \"/Users/sanaketabchi/miniforge3/envs/DS39/lib/python3.9/site-packages/keras/engine/training.py\", line 1249, in train_function  *\n        return step_function(self, iterator)\n    File \"/Users/sanaketabchi/miniforge3/envs/DS39/lib/python3.9/site-packages/keras/engine/training.py\", line 1233, in step_function  **\n        outputs = model.distribute_strategy.run(run_step, args=(data,))\n    File \"/Users/sanaketabchi/miniforge3/envs/DS39/lib/python3.9/site-packages/keras/engine/training.py\", line 1222, in run_step  **\n        outputs = model.train_step(data)\n    File \"/Users/sanaketabchi/miniforge3/envs/DS39/lib/python3.9/site-packages/transformers/modeling_tf_utils.py\", line 1495, in train_step\n        y_pred = self(x, training=True)\n    File \"/Users/sanaketabchi/miniforge3/envs/DS39/lib/python3.9/site-packages/keras/utils/traceback_utils.py\", line 70, in error_handler\n        raise e.with_traceback(filtered_tb) from None\n    File \"/var/folders/nn/08g9ycbd6v32z2c6dwnskcyc0000gn/T/__autograph_generated_fileyhttfvfg.py\", line 36, in tf__run_call_with_unpacked_inputs\n        retval_ = ag__.converted_call(ag__.ld(func), (ag__.ld(self),), dict(**ag__.ld(unpacked_inputs)), fscope)\n\n    TypeError: Exception encountered when calling layer 'tf_distil_bert_for_sequence_classification' (type TFDistilBertForSequenceClassification).\n    \n    in user code:\n    \n        File \"/Users/sanaketabchi/miniforge3/envs/DS39/lib/python3.9/site-packages/transformers/modeling_tf_utils.py\", line 748, in run_call_with_unpacked_inputs  *\n            return func(self, **unpacked_inputs)\n    \n        TypeError: tf__call() got an unexpected keyword argument 'text'\n    \n    \n    Call arguments received by layer 'tf_distil_bert_for_sequence_classification' (type TFDistilBertForSequenceClassification):\n      • self={'text': 'tf.Tensor(shape=(None, 1), dtype=string)', 'TrueNews?': 'tf.Tensor(shape=(None, 1), dtype=int64)', '__index_level_0__': 'tf.Tensor(shape=(None, 1), dtype=int64)', 'input_ids': 'tf.Tensor(shape=(None, 512), dtype=int64)', 'attention_mask': 'tf.Tensor(shape=(None, 512), dtype=int64)'}\n      • input_ids=None\n      • attention_mask=None\n      • head_mask=None\n      • inputs_embeds=None\n      • output_attentions=None\n      • output_hidden_states=None\n      • return_dict=None\n      • labels=None\n      • training=True\n"
     ]
    }
   ],
   "source": [
    "# Fit the model\n",
    "model.fit(tf_train_dataset, \n",
    "          validation_data=tf_valid_dataset, \n",
    "          epochs=5)"
   ]
  }
 ],
 "metadata": {
  "kernelspec": {
   "display_name": "Python [conda env:DS39]",
   "language": "python",
   "name": "conda-env-DS39-py"
  },
  "language_info": {
   "codemirror_mode": {
    "name": "ipython",
    "version": 3
   },
   "file_extension": ".py",
   "mimetype": "text/x-python",
   "name": "python",
   "nbconvert_exporter": "python",
   "pygments_lexer": "ipython3",
   "version": "3.9.15"
  }
 },
 "nbformat": 4,
 "nbformat_minor": 5
}
